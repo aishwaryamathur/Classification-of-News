{
 "cells": [
  {
   "cell_type": "markdown",
   "metadata": {
    "id": "9JGitou_GLe1"
   },
   "source": [
    "# Logistic Regression and Random Forest Classifier"
   ]
  },
  {
   "cell_type": "code",
   "execution_count": 1,
   "metadata": {
    "colab": {
     "base_uri": "https://localhost:8080/"
    },
    "id": "Bt_ptxd1GOsg",
    "outputId": "16812f8c-9844-4208-e167-cb4bfce36226"
   },
   "outputs": [
    {
     "name": "stderr",
     "output_type": "stream",
     "text": [
      "[nltk_data] Downloading package punkt to\n",
      "[nltk_data]     /Users/simrankodwani/nltk_data...\n",
      "[nltk_data]   Package punkt is already up-to-date!\n",
      "[nltk_data] Downloading package stopwords to\n",
      "[nltk_data]     /Users/simrankodwani/nltk_data...\n",
      "[nltk_data]   Package stopwords is already up-to-date!\n"
     ]
    }
   ],
   "source": [
    "import re\n",
    "import json\n",
    "import string\n",
    "import numpy as np\n",
    "import pandas as pd\n",
    "import matplotlib.pyplot as plt\n",
    "import seaborn as sns\n",
    "from nltk.tokenize import word_tokenize\n",
    "import nltk\n",
    "from nltk.stem.snowball import SnowballStemmer\n",
    "nltk.download('punkt')\n",
    "from nltk.corpus import stopwords\n",
    "import nltk\n",
    "nltk.download('stopwords')\n",
    "pd.set_option('display.max_colwidth', None)"
   ]
  },
  {
   "cell_type": "markdown",
   "metadata": {
    "id": "4wiuNqm-G9Wm"
   },
   "source": [
    "Reading the json file and storing it in a dataframe"
   ]
  },
  {
   "cell_type": "code",
   "execution_count": 2,
   "metadata": {
    "id": "cpXbDmtcG1H2"
   },
   "outputs": [],
   "source": [
    "path = '/Users/simrankodwani/Downloads/News_Category_Dataset_v2.json'\n",
    "list_ = []\n",
    "\n",
    "with open(path) as files:\n",
    "    for file in files:\n",
    "        list_.append(json.loads(file))"
   ]
  },
  {
   "cell_type": "code",
   "execution_count": 3,
   "metadata": {
    "colab": {
     "base_uri": "https://localhost:8080/",
     "height": 345
    },
    "id": "oVpC2ELIHDB2",
    "outputId": "513402b0-9c45-48a7-86a6-bf5a03ce20de"
   },
   "outputs": [
    {
     "data": {
      "text/html": [
       "<div>\n",
       "<style scoped>\n",
       "    .dataframe tbody tr th:only-of-type {\n",
       "        vertical-align: middle;\n",
       "    }\n",
       "\n",
       "    .dataframe tbody tr th {\n",
       "        vertical-align: top;\n",
       "    }\n",
       "\n",
       "    .dataframe thead th {\n",
       "        text-align: right;\n",
       "    }\n",
       "</style>\n",
       "<table border=\"1\" class=\"dataframe\">\n",
       "  <thead>\n",
       "    <tr style=\"text-align: right;\">\n",
       "      <th></th>\n",
       "      <th>category</th>\n",
       "      <th>headline</th>\n",
       "      <th>authors</th>\n",
       "      <th>link</th>\n",
       "      <th>short_description</th>\n",
       "      <th>date</th>\n",
       "    </tr>\n",
       "  </thead>\n",
       "  <tbody>\n",
       "    <tr>\n",
       "      <th>0</th>\n",
       "      <td>CRIME</td>\n",
       "      <td>There Were 2 Mass Shootings In Texas Last Week, But Only 1 On TV</td>\n",
       "      <td>Melissa Jeltsen</td>\n",
       "      <td>https://www.huffingtonpost.com/entry/texas-amanda-painter-mass-shooting_us_5b081ab4e4b0802d69caad89</td>\n",
       "      <td>She left her husband. He killed their children. Just another day in America.</td>\n",
       "      <td>2018-05-26</td>\n",
       "    </tr>\n",
       "    <tr>\n",
       "      <th>1</th>\n",
       "      <td>ENTERTAINMENT</td>\n",
       "      <td>Will Smith Joins Diplo And Nicky Jam For The 2018 World Cup's Official Song</td>\n",
       "      <td>Andy McDonald</td>\n",
       "      <td>https://www.huffingtonpost.com/entry/will-smith-joins-diplo-and-nicky-jam-for-the-official-2018-world-cup-song_us_5b09726fe4b0fdb2aa541201</td>\n",
       "      <td>Of course it has a song.</td>\n",
       "      <td>2018-05-26</td>\n",
       "    </tr>\n",
       "    <tr>\n",
       "      <th>2</th>\n",
       "      <td>ENTERTAINMENT</td>\n",
       "      <td>Hugh Grant Marries For The First Time At Age 57</td>\n",
       "      <td>Ron Dicker</td>\n",
       "      <td>https://www.huffingtonpost.com/entry/hugh-grant-marries_us_5b09212ce4b0568a880b9a8c</td>\n",
       "      <td>The actor and his longtime girlfriend Anna Eberstein tied the knot in a civil ceremony.</td>\n",
       "      <td>2018-05-26</td>\n",
       "    </tr>\n",
       "    <tr>\n",
       "      <th>3</th>\n",
       "      <td>ENTERTAINMENT</td>\n",
       "      <td>Jim Carrey Blasts 'Castrato' Adam Schiff And Democrats In New Artwork</td>\n",
       "      <td>Ron Dicker</td>\n",
       "      <td>https://www.huffingtonpost.com/entry/jim-carrey-adam-schiff-democrats_us_5b0950e8e4b0fdb2aa53e675</td>\n",
       "      <td>The actor gives Dems an ass-kicking for not fighting hard enough against Donald Trump.</td>\n",
       "      <td>2018-05-26</td>\n",
       "    </tr>\n",
       "    <tr>\n",
       "      <th>4</th>\n",
       "      <td>ENTERTAINMENT</td>\n",
       "      <td>Julianna Margulies Uses Donald Trump Poop Bags To Pick Up After Her Dog</td>\n",
       "      <td>Ron Dicker</td>\n",
       "      <td>https://www.huffingtonpost.com/entry/julianna-margulies-trump-poop-bag_us_5b093ec2e4b0fdb2aa53df70</td>\n",
       "      <td>The \"Dietland\" actress said using the bags is a \"really cathartic, therapeutic moment.\"</td>\n",
       "      <td>2018-05-26</td>\n",
       "    </tr>\n",
       "  </tbody>\n",
       "</table>\n",
       "</div>"
      ],
      "text/plain": [
       "        category  \\\n",
       "0          CRIME   \n",
       "1  ENTERTAINMENT   \n",
       "2  ENTERTAINMENT   \n",
       "3  ENTERTAINMENT   \n",
       "4  ENTERTAINMENT   \n",
       "\n",
       "                                                                      headline  \\\n",
       "0             There Were 2 Mass Shootings In Texas Last Week, But Only 1 On TV   \n",
       "1  Will Smith Joins Diplo And Nicky Jam For The 2018 World Cup's Official Song   \n",
       "2                              Hugh Grant Marries For The First Time At Age 57   \n",
       "3        Jim Carrey Blasts 'Castrato' Adam Schiff And Democrats In New Artwork   \n",
       "4      Julianna Margulies Uses Donald Trump Poop Bags To Pick Up After Her Dog   \n",
       "\n",
       "           authors  \\\n",
       "0  Melissa Jeltsen   \n",
       "1    Andy McDonald   \n",
       "2       Ron Dicker   \n",
       "3       Ron Dicker   \n",
       "4       Ron Dicker   \n",
       "\n",
       "                                                                                                                                         link  \\\n",
       "0                                         https://www.huffingtonpost.com/entry/texas-amanda-painter-mass-shooting_us_5b081ab4e4b0802d69caad89   \n",
       "1  https://www.huffingtonpost.com/entry/will-smith-joins-diplo-and-nicky-jam-for-the-official-2018-world-cup-song_us_5b09726fe4b0fdb2aa541201   \n",
       "2                                                         https://www.huffingtonpost.com/entry/hugh-grant-marries_us_5b09212ce4b0568a880b9a8c   \n",
       "3                                           https://www.huffingtonpost.com/entry/jim-carrey-adam-schiff-democrats_us_5b0950e8e4b0fdb2aa53e675   \n",
       "4                                          https://www.huffingtonpost.com/entry/julianna-margulies-trump-poop-bag_us_5b093ec2e4b0fdb2aa53df70   \n",
       "\n",
       "                                                                         short_description  \\\n",
       "0             She left her husband. He killed their children. Just another day in America.   \n",
       "1                                                                 Of course it has a song.   \n",
       "2  The actor and his longtime girlfriend Anna Eberstein tied the knot in a civil ceremony.   \n",
       "3   The actor gives Dems an ass-kicking for not fighting hard enough against Donald Trump.   \n",
       "4  The \"Dietland\" actress said using the bags is a \"really cathartic, therapeutic moment.\"   \n",
       "\n",
       "         date  \n",
       "0  2018-05-26  \n",
       "1  2018-05-26  \n",
       "2  2018-05-26  \n",
       "3  2018-05-26  \n",
       "4  2018-05-26  "
      ]
     },
     "execution_count": 3,
     "metadata": {},
     "output_type": "execute_result"
    }
   ],
   "source": [
    "df = pd.DataFrame(list_)\n",
    "df.head()"
   ]
  },
  {
   "cell_type": "markdown",
   "metadata": {
    "id": "mB3b7UFFHCPR"
   },
   "source": [
    "Checking the unique values in the category column"
   ]
  },
  {
   "cell_type": "code",
   "execution_count": 5,
   "metadata": {
    "colab": {
     "base_uri": "https://localhost:8080/"
    },
    "id": "0fqD-A_zHKJv",
    "outputId": "111260a3-751a-41f5-a6d2-ecda68e9dadd"
   },
   "outputs": [],
   "source": [
    "# df['category'].unique()"
   ]
  },
  {
   "cell_type": "code",
   "execution_count": 4,
   "metadata": {
    "colab": {
     "base_uri": "https://localhost:8080/"
    },
    "id": "v6kCzxiDHNxX",
    "outputId": "38a120ba-85f3-478c-d04f-d5be1a685522"
   },
   "outputs": [
    {
     "data": {
      "text/plain": [
       "41"
      ]
     },
     "execution_count": 4,
     "metadata": {},
     "output_type": "execute_result"
    }
   ],
   "source": [
    "len(df['category'].unique())"
   ]
  },
  {
   "cell_type": "markdown",
   "metadata": {
    "id": "tCmcJDqaIt4s"
   },
   "source": [
    "**Bar plot**\n",
    "\n",
    "Number of articles per catergory[41]"
   ]
  },
  {
   "cell_type": "code",
   "execution_count": 5,
   "metadata": {
    "colab": {
     "base_uri": "https://localhost:8080/",
     "height": 793
    },
    "id": "jvX4SxDJIruI",
    "outputId": "f6af2119-342a-4364-f15d-dbc98a241c40"
   },
   "outputs": [
    {
     "data": {
      "image/png": "[encoded data removed]",
      "text/plain": [
       "<Figure size 1584x864 with 1 Axes>"
      ]
     },
     "metadata": {
      "needs_background": "light"
     },
     "output_type": "display_data"
    }
   ],
   "source": [
    "f = df.groupby(['category'])['headline'].count().sort_values(ascending=False)\n",
    "f = f.reset_index()\n",
    "fig, ax = plt.subplots(figsize =(22,12))\n",
    "c = sns.barplot(data=f, y='headline', x='category', palette='ocean')\n",
    "c.set(xlabel='News Categories', ylabel='Number of Articles published', title='Number of articles per category')\n",
    "plt.xticks(rotation=50);"
   ]
  },
  {
   "cell_type": "markdown",
   "metadata": {
    "id": "WBb7tvSHHQd_"
   },
   "source": [
    "Combining raw data categories that are very close and can be considered the same..."
   ]
  },
  {
   "cell_type": "code",
   "execution_count": 6,
   "metadata": {
    "id": "KSU1zPsSHR3R"
   },
   "outputs": [],
   "source": [
    "df['category'] = df['category'].replace(['COLLEGE', 'PARENTS', 'ARTS & CULTURE','CULTURE & ARTS', \n",
    "                                        'THE WORLDPOST', 'WORLDPOST', 'WEDDINGS','DIVORCE',\n",
    "                                        'GREEN','STYLE','TASTE','HEALTHY LIVING','FIFTY'],\n",
    "                                        ['EDUCATION', 'PARENTING', 'ARTS','ARTS','WORLD NEWS', \n",
    "                                         'WORLD NEWS','MARRIAGE','MARRIAGE','ENVIRONMENT',\n",
    "                                         'STYLE & BEAUTY','FOOD & DRINK','HOME & LIVING','LIFESTYLE'])"
   ]
  },
  {
   "cell_type": "code",
   "execution_count": 7,
   "metadata": {
    "colab": {
     "base_uri": "https://localhost:8080/"
    },
    "id": "M3tn4LH6HVmc",
    "outputId": "e6963597-b031-4cfb-92f7-69fba29b5ea4"
   },
   "outputs": [
    {
     "data": {
      "text/plain": [
       "30"
      ]
     },
     "execution_count": 7,
     "metadata": {},
     "output_type": "execute_result"
    }
   ],
   "source": [
    "len(df['category'].unique())"
   ]
  },
  {
   "cell_type": "markdown",
   "metadata": {
    "id": "Swn0XdjtQ4Zr"
   },
   "source": [
    "**Bar plot**\n",
    "\n",
    "Number of articles per catergory[30]"
   ]
  },
  {
   "cell_type": "code",
   "execution_count": 8,
   "metadata": {
    "colab": {
     "base_uri": "https://localhost:8080/",
     "height": 790
    },
    "id": "sw5V5gnyNF3_",
    "outputId": "8491de07-d19c-48d0-d09e-57348158d5d6"
   },
   "outputs": [
    {
     "data": {
      "image/png": "[encoded data removed]",
      "text/plain": [
       "<Figure size 1584x864 with 1 Axes>"
      ]
     },
     "metadata": {
      "needs_background": "light"
     },
     "output_type": "display_data"
    }
   ],
   "source": [
    "f = df.groupby(['category'])['headline'].count().sort_values(ascending=False)\n",
    "f = f.reset_index()\n",
    "fig, ax = plt.subplots(figsize =(22,12))\n",
    "c = sns.barplot(data=f, y='headline', x='category', palette='ocean')\n",
    "c.set(xlabel='News Categories', ylabel='Number of Articles published', title='Number of articles per category')\n",
    "plt.xticks(rotation=50);"
   ]
  },
  {
   "cell_type": "markdown",
   "metadata": {
    "id": "7Ne_1kD-ZWVg"
   },
   "source": [
    "Merging Headline and Short Description in the dataset for text classification"
   ]
  },
  {
   "cell_type": "code",
   "execution_count": 9,
   "metadata": {
    "id": "MaD8SxSOZblr"
   },
   "outputs": [],
   "source": [
    "df['headline+description'] = df['headline'] + ' ' + df['short_description']"
   ]
  },
  {
   "cell_type": "markdown",
   "metadata": {
    "id": "EClcYIIQxsxk"
   },
   "source": [
    "Converting to lower case\n"
   ]
  },
  {
   "cell_type": "code",
   "execution_count": 10,
   "metadata": {
    "id": "0uwrUvmOeLwd"
   },
   "outputs": [],
   "source": [
    "df['headline+description'] = df['headline+description'].str.lower()"
   ]
  },
  {
   "cell_type": "markdown",
   "metadata": {
    "id": "cWC9LHKhxwWY"
   },
   "source": [
    "Removing special characters"
   ]
  },
  {
   "cell_type": "code",
   "execution_count": 11,
   "metadata": {
    "id": "rrBK5BOmkRUo"
   },
   "outputs": [
    {
     "name": "stderr",
     "output_type": "stream",
     "text": [
      "<ipython-input-11-de3498bead0b>:6: FutureWarning: The default value of regex will change from True to False in a future version. In addition, single character regular expressions will*not* be treated as literal strings when regex=True.\n",
      "  df['headline+description'] = df['headline+description'].str.replace(char, ' ')\n"
     ]
    }
   ],
   "source": [
    "special_chars = [\"!\",'\"',\"#\",\"%\",\"&\",\"'\",\"(\",\")\",\n",
    "              \"*\",\"+\",\",\",\"-\",\".\",\"/\",\":\",\";\",\"<\",\n",
    "              \"=\",\">\",\"?\",\"@\",\"[\",\"\\\\\",\"]\",\"^\",\"_\",\n",
    "              \"`\",\"{\",\"|\",\"}\",\"~\",\"–\"]\n",
    "for char in special_chars:\n",
    "    df['headline+description'] = df['headline+description'].str.replace(char, ' ')"
   ]
  },
  {
   "cell_type": "markdown",
   "metadata": {
    "id": "f91EdREsx0H_"
   },
   "source": [
    "Removing stop words"
   ]
  },
  {
   "cell_type": "code",
   "execution_count": 12,
   "metadata": {
    "id": "7W4n6c-wiCT3"
   },
   "outputs": [],
   "source": [
    "stop = stopwords.words('english')\n",
    "df['headline+description'] = df['headline+description'].apply(lambda x: ' '.join([word for word in x.split() if word not in (stop)]))"
   ]
  },
  {
   "cell_type": "markdown",
   "metadata": {
    "id": "7CF6sFVRx2Fp"
   },
   "source": [
    "Tokenizing"
   ]
  },
  {
   "cell_type": "code",
   "execution_count": 13,
   "metadata": {
    "id": "pyB6bf4whVzP"
   },
   "outputs": [],
   "source": [
    "df['tokenized_text'] = df['headline+description'].apply(word_tokenize) "
   ]
  },
  {
   "cell_type": "markdown",
   "metadata": {
    "id": "v09mVl0Cx3ki"
   },
   "source": [
    "Stemming"
   ]
  },
  {
   "cell_type": "code",
   "execution_count": 14,
   "metadata": {
    "id": "Sqp1IzjPfBr-"
   },
   "outputs": [],
   "source": [
    "stemmer = SnowballStemmer(\"english\")\n",
    "df['stemmed'] = df['tokenized_text'].apply(lambda x: [stemmer.stem(y) for y in x])"
   ]
  },
  {
   "cell_type": "code",
   "execution_count": null,
   "metadata": {
    "id": "q5FxezCbegOn"
   },
   "outputs": [],
   "source": [
    "# df['totalwords'] = df['headline+description'].str.split().str.len()"
   ]
  },
  {
   "cell_type": "code",
   "execution_count": null,
   "metadata": {
    "id": "SOIJkIGheibF"
   },
   "outputs": [],
   "source": [
    "# d=df.loc[df['totalwords']<10]\n",
    "# d"
   ]
  },
  {
   "cell_type": "code",
   "execution_count": null,
   "metadata": {
    "id": "i4S0ON4CaaW2"
   },
   "outputs": [],
   "source": [
    "# count = df['headline+description'].str.split().str.len()\n",
    "# count.index = count.index.astype(str) + ' words:'\n",
    "# count.sort_index(inplace=True)\n",
    "# count"
   ]
  },
  {
   "cell_type": "code",
   "execution_count": 15,
   "metadata": {
    "id": "K2CG9Es2acEe"
   },
   "outputs": [],
   "source": [
    "from sklearn.model_selection import train_test_split\n",
    "from sklearn.feature_extraction.text import CountVectorizer \n",
    "from sklearn.feature_extraction.text import TfidfTransformer \n",
    "from sklearn.naive_bayes import MultinomialNB \n",
    "from sklearn.linear_model import LogisticRegression\n",
    "from sklearn.pipeline import Pipeline \n",
    "from sklearn import metrics\n",
    "import itertools"
   ]
  },
  {
   "cell_type": "code",
   "execution_count": 16,
   "metadata": {
    "colab": {
     "base_uri": "https://localhost:8080/",
     "height": 1000
    },
    "id": "CLN2UMKibgEo",
    "outputId": "522fc13b-2a04-4e29-cf94-b81ac336d176"
   },
   "outputs": [],
   "source": [
    "df['Summary'] = [\" \".join(review) for review in df['stemmed'].values]\n",
    "# df"
   ]
  },
  {
   "cell_type": "code",
   "execution_count": 17,
   "metadata": {
    "id": "7dbJ7OpQavAh"
   },
   "outputs": [],
   "source": [
    "X = df['Summary']\n",
    "y = df['category']\n",
    "X_train, X_test, y_train, y_test = train_test_split(X, y, test_size=0.2, random_state=42)\n",
    "names = np.unique(df['category'])"
   ]
  },
  {
   "cell_type": "code",
   "execution_count": 19,
   "metadata": {},
   "outputs": [
    {
     "data": {
      "text/html": [
       "<div>\n",
       "<style scoped>\n",
       "    .dataframe tbody tr th:only-of-type {\n",
       "        vertical-align: middle;\n",
       "    }\n",
       "\n",
       "    .dataframe tbody tr th {\n",
       "        vertical-align: top;\n",
       "    }\n",
       "\n",
       "    .dataframe thead th {\n",
       "        text-align: right;\n",
       "    }\n",
       "</style>\n",
       "<table border=\"1\" class=\"dataframe\">\n",
       "  <thead>\n",
       "    <tr style=\"text-align: right;\">\n",
       "      <th></th>\n",
       "      <th>category</th>\n",
       "      <th>headline</th>\n",
       "      <th>authors</th>\n",
       "      <th>link</th>\n",
       "      <th>short_description</th>\n",
       "      <th>date</th>\n",
       "      <th>headline+description</th>\n",
       "      <th>tokenized_text</th>\n",
       "      <th>stemmed</th>\n",
       "      <th>Summary</th>\n",
       "    </tr>\n",
       "  </thead>\n",
       "  <tbody>\n",
       "    <tr>\n",
       "      <th>0</th>\n",
       "      <td>CRIME</td>\n",
       "      <td>There Were 2 Mass Shootings In Texas Last Week, But Only 1 On TV</td>\n",
       "      <td>Melissa Jeltsen</td>\n",
       "      <td>https://www.huffingtonpost.com/entry/texas-amanda-painter-mass-shooting_us_5b081ab4e4b0802d69caad89</td>\n",
       "      <td>She left her husband. He killed their children. Just another day in America.</td>\n",
       "      <td>2018-05-26</td>\n",
       "      <td>2 mass shootings texas last week 1 tv left husband killed children another day america</td>\n",
       "      <td>[2, mass, shootings, texas, last, week, 1, tv, left, husband, killed, children, another, day, america]</td>\n",
       "      <td>[2, mass, shoot, texa, last, week, 1, tv, left, husband, kill, children, anoth, day, america]</td>\n",
       "      <td>2 mass shoot texa last week 1 tv left husband kill children anoth day america</td>\n",
       "    </tr>\n",
       "    <tr>\n",
       "      <th>1</th>\n",
       "      <td>ENTERTAINMENT</td>\n",
       "      <td>Will Smith Joins Diplo And Nicky Jam For The 2018 World Cup's Official Song</td>\n",
       "      <td>Andy McDonald</td>\n",
       "      <td>https://www.huffingtonpost.com/entry/will-smith-joins-diplo-and-nicky-jam-for-the-official-2018-world-cup-song_us_5b09726fe4b0fdb2aa541201</td>\n",
       "      <td>Of course it has a song.</td>\n",
       "      <td>2018-05-26</td>\n",
       "      <td>smith joins diplo nicky jam 2018 world cup official song course song</td>\n",
       "      <td>[smith, joins, diplo, nicky, jam, 2018, world, cup, official, song, course, song]</td>\n",
       "      <td>[smith, join, diplo, nicki, jam, 2018, world, cup, offici, song, cours, song]</td>\n",
       "      <td>smith join diplo nicki jam 2018 world cup offici song cours song</td>\n",
       "    </tr>\n",
       "    <tr>\n",
       "      <th>2</th>\n",
       "      <td>ENTERTAINMENT</td>\n",
       "      <td>Hugh Grant Marries For The First Time At Age 57</td>\n",
       "      <td>Ron Dicker</td>\n",
       "      <td>https://www.huffingtonpost.com/entry/hugh-grant-marries_us_5b09212ce4b0568a880b9a8c</td>\n",
       "      <td>The actor and his longtime girlfriend Anna Eberstein tied the knot in a civil ceremony.</td>\n",
       "      <td>2018-05-26</td>\n",
       "      <td>hugh grant marries first time age 57 actor longtime girlfriend anna eberstein tied knot civil ceremony</td>\n",
       "      <td>[hugh, grant, marries, first, time, age, 57, actor, longtime, girlfriend, anna, eberstein, tied, knot, civil, ceremony]</td>\n",
       "      <td>[hugh, grant, marri, first, time, age, 57, actor, longtim, girlfriend, anna, eberstein, tie, knot, civil, ceremoni]</td>\n",
       "      <td>hugh grant marri first time age 57 actor longtim girlfriend anna eberstein tie knot civil ceremoni</td>\n",
       "    </tr>\n",
       "    <tr>\n",
       "      <th>3</th>\n",
       "      <td>ENTERTAINMENT</td>\n",
       "      <td>Jim Carrey Blasts 'Castrato' Adam Schiff And Democrats In New Artwork</td>\n",
       "      <td>Ron Dicker</td>\n",
       "      <td>https://www.huffingtonpost.com/entry/jim-carrey-adam-schiff-democrats_us_5b0950e8e4b0fdb2aa53e675</td>\n",
       "      <td>The actor gives Dems an ass-kicking for not fighting hard enough against Donald Trump.</td>\n",
       "      <td>2018-05-26</td>\n",
       "      <td>jim carrey blasts castrato adam schiff democrats new artwork actor gives dems ass kicking fighting hard enough donald trump</td>\n",
       "      <td>[jim, carrey, blasts, castrato, adam, schiff, democrats, new, artwork, actor, gives, dems, ass, kicking, fighting, hard, enough, donald, trump]</td>\n",
       "      <td>[jim, carrey, blast, castrato, adam, schiff, democrat, new, artwork, actor, give, dem, ass, kick, fight, hard, enough, donald, trump]</td>\n",
       "      <td>jim carrey blast castrato adam schiff democrat new artwork actor give dem ass kick fight hard enough donald trump</td>\n",
       "    </tr>\n",
       "    <tr>\n",
       "      <th>4</th>\n",
       "      <td>ENTERTAINMENT</td>\n",
       "      <td>Julianna Margulies Uses Donald Trump Poop Bags To Pick Up After Her Dog</td>\n",
       "      <td>Ron Dicker</td>\n",
       "      <td>https://www.huffingtonpost.com/entry/julianna-margulies-trump-poop-bag_us_5b093ec2e4b0fdb2aa53df70</td>\n",
       "      <td>The \"Dietland\" actress said using the bags is a \"really cathartic, therapeutic moment.\"</td>\n",
       "      <td>2018-05-26</td>\n",
       "      <td>julianna margulies uses donald trump poop bags pick dog dietland actress said using bags really cathartic therapeutic moment</td>\n",
       "      <td>[julianna, margulies, uses, donald, trump, poop, bags, pick, dog, dietland, actress, said, using, bags, really, cathartic, therapeutic, moment]</td>\n",
       "      <td>[julianna, marguli, use, donald, trump, poop, bag, pick, dog, dietland, actress, said, use, bag, realli, cathart, therapeut, moment]</td>\n",
       "      <td>julianna marguli use donald trump poop bag pick dog dietland actress said use bag realli cathart therapeut moment</td>\n",
       "    </tr>\n",
       "    <tr>\n",
       "      <th>...</th>\n",
       "      <td>...</td>\n",
       "      <td>...</td>\n",
       "      <td>...</td>\n",
       "      <td>...</td>\n",
       "      <td>...</td>\n",
       "      <td>...</td>\n",
       "      <td>...</td>\n",
       "      <td>...</td>\n",
       "      <td>...</td>\n",
       "      <td>...</td>\n",
       "    </tr>\n",
       "    <tr>\n",
       "      <th>200848</th>\n",
       "      <td>TECH</td>\n",
       "      <td>RIM CEO Thorsten Heins' 'Significant' Plans For BlackBerry</td>\n",
       "      <td>Reuters, Reuters</td>\n",
       "      <td>https://www.huffingtonpost.com/entry/rim-ceo-thorsten-heins_us_5bb34b8ce4b0fa920b95c4e1</td>\n",
       "      <td>Verizon Wireless and AT&amp;T are already promoting LTE devices including smartphones and tablets from RIM's rivals. RIM's first</td>\n",
       "      <td>2012-01-28</td>\n",
       "      <td>rim ceo thorsten heins significant plans blackberry verizon wireless already promoting lte devices including smartphones tablets rim rivals rim first</td>\n",
       "      <td>[rim, ceo, thorsten, heins, significant, plans, blackberry, verizon, wireless, already, promoting, lte, devices, including, smartphones, tablets, rim, rivals, rim, first]</td>\n",
       "      <td>[rim, ceo, thorsten, hein, signific, plan, blackberri, verizon, wireless, alreadi, promot, lte, devic, includ, smartphon, tablet, rim, rival, rim, first]</td>\n",
       "      <td>rim ceo thorsten hein signific plan blackberri verizon wireless alreadi promot lte devic includ smartphon tablet rim rival rim first</td>\n",
       "    </tr>\n",
       "    <tr>\n",
       "      <th>200849</th>\n",
       "      <td>SPORTS</td>\n",
       "      <td>Maria Sharapova Stunned By Victoria Azarenka In Australian Open Final</td>\n",
       "      <td></td>\n",
       "      <td>https://www.huffingtonpost.com/entry/maria-sharapova-stunned-victoria-azarenka-australian-open_us_5bb69b21e4b097869fd1b2f1</td>\n",
       "      <td>Afterward, Azarenka, more effusive with the press than normal, credited her coach of two years, Sam Sumyk, for his patient</td>\n",
       "      <td>2012-01-28</td>\n",
       "      <td>maria sharapova stunned victoria azarenka australian open final afterward azarenka effusive press normal credited coach two years sam sumyk patient</td>\n",
       "      <td>[maria, sharapova, stunned, victoria, azarenka, australian, open, final, afterward, azarenka, effusive, press, normal, credited, coach, two, years, sam, sumyk, patient]</td>\n",
       "      <td>[maria, sharapova, stun, victoria, azarenka, australian, open, final, afterward, azarenka, effus, press, normal, credit, coach, two, year, sam, sumyk, patient]</td>\n",
       "      <td>maria sharapova stun victoria azarenka australian open final afterward azarenka effus press normal credit coach two year sam sumyk patient</td>\n",
       "    </tr>\n",
       "    <tr>\n",
       "      <th>200850</th>\n",
       "      <td>SPORTS</td>\n",
       "      <td>Giants Over Patriots, Jets Over Colts Among  Most Improbable Super Bowl Upsets Of All Time (VIDEOS)</td>\n",
       "      <td></td>\n",
       "      <td>https://www.huffingtonpost.com/entry/super-bowl-upsets-the-mos_us_5bb69b1de4b097869fd1b26d</td>\n",
       "      <td>Leading up to Super Bowl XLVI, the most talked about game could end up being one that occurred a few years ago. After all</td>\n",
       "      <td>2012-01-28</td>\n",
       "      <td>giants patriots jets colts among improbable super bowl upsets time videos leading super bowl xlvi talked game could end one occurred years ago</td>\n",
       "      <td>[giants, patriots, jets, colts, among, improbable, super, bowl, upsets, time, videos, leading, super, bowl, xlvi, talked, game, could, end, one, occurred, years, ago]</td>\n",
       "      <td>[giant, patriot, jet, colt, among, improb, super, bowl, upset, time, video, lead, super, bowl, xlvi, talk, game, could, end, one, occur, year, ago]</td>\n",
       "      <td>giant patriot jet colt among improb super bowl upset time video lead super bowl xlvi talk game could end one occur year ago</td>\n",
       "    </tr>\n",
       "    <tr>\n",
       "      <th>200851</th>\n",
       "      <td>SPORTS</td>\n",
       "      <td>Aldon Smith Arrested: 49ers Linebacker Busted For DUI</td>\n",
       "      <td></td>\n",
       "      <td>https://www.huffingtonpost.com/entry/aldon-smith-arrested-dui-49ers_us_5bb69b25e4b097869fd1b33c</td>\n",
       "      <td>CORRECTION: An earlier version of this story incorrectly stated the location of KTVU and the 2011 league leader in sacks</td>\n",
       "      <td>2012-01-28</td>\n",
       "      <td>aldon smith arrested 49ers linebacker busted dui correction earlier version story incorrectly stated location ktvu 2011 league leader sacks</td>\n",
       "      <td>[aldon, smith, arrested, 49ers, linebacker, busted, dui, correction, earlier, version, story, incorrectly, stated, location, ktvu, 2011, league, leader, sacks]</td>\n",
       "      <td>[aldon, smith, arrest, 49er, lineback, bust, dui, correct, earlier, version, stori, incorrect, state, locat, ktvu, 2011, leagu, leader, sack]</td>\n",
       "      <td>aldon smith arrest 49er lineback bust dui correct earlier version stori incorrect state locat ktvu 2011 leagu leader sack</td>\n",
       "    </tr>\n",
       "    <tr>\n",
       "      <th>200852</th>\n",
       "      <td>SPORTS</td>\n",
       "      <td>Dwight Howard Rips Teammates After Magic Loss To Hornets</td>\n",
       "      <td></td>\n",
       "      <td>https://www.huffingtonpost.com/entry/dwight-howard-rips-teammates-magic-hornets_us_5bb69b24e4b097869fd1b331</td>\n",
       "      <td>The five-time all-star center tore into his teammates Friday night after Orlando committed 23 turnovers en route to losing</td>\n",
       "      <td>2012-01-28</td>\n",
       "      <td>dwight howard rips teammates magic loss hornets five time star center tore teammates friday night orlando committed 23 turnovers en route losing</td>\n",
       "      <td>[dwight, howard, rips, teammates, magic, loss, hornets, five, time, star, center, tore, teammates, friday, night, orlando, committed, 23, turnovers, en, route, losing]</td>\n",
       "      <td>[dwight, howard, rip, teammat, magic, loss, hornet, five, time, star, center, tore, teammat, friday, night, orlando, commit, 23, turnov, en, rout, lose]</td>\n",
       "      <td>dwight howard rip teammat magic loss hornet five time star center tore teammat friday night orlando commit 23 turnov en rout lose</td>\n",
       "    </tr>\n",
       "  </tbody>\n",
       "</table>\n",
       "<p>200853 rows × 10 columns</p>\n",
       "</div>"
      ],
      "text/plain": [
       "             category  \\\n",
       "0               CRIME   \n",
       "1       ENTERTAINMENT   \n",
       "2       ENTERTAINMENT   \n",
       "3       ENTERTAINMENT   \n",
       "4       ENTERTAINMENT   \n",
       "...               ...   \n",
       "200848           TECH   \n",
       "200849         SPORTS   \n",
       "200850         SPORTS   \n",
       "200851         SPORTS   \n",
       "200852         SPORTS   \n",
       "\n",
       "                                                                                                   headline  \\\n",
       "0                                          There Were 2 Mass Shootings In Texas Last Week, But Only 1 On TV   \n",
       "1                               Will Smith Joins Diplo And Nicky Jam For The 2018 World Cup's Official Song   \n",
       "2                                                           Hugh Grant Marries For The First Time At Age 57   \n",
       "3                                     Jim Carrey Blasts 'Castrato' Adam Schiff And Democrats In New Artwork   \n",
       "4                                   Julianna Margulies Uses Donald Trump Poop Bags To Pick Up After Her Dog   \n",
       "...                                                                                                     ...   \n",
       "200848                                           RIM CEO Thorsten Heins' 'Significant' Plans For BlackBerry   \n",
       "200849                                Maria Sharapova Stunned By Victoria Azarenka In Australian Open Final   \n",
       "200850  Giants Over Patriots, Jets Over Colts Among  Most Improbable Super Bowl Upsets Of All Time (VIDEOS)   \n",
       "200851                                                Aldon Smith Arrested: 49ers Linebacker Busted For DUI   \n",
       "200852                                             Dwight Howard Rips Teammates After Magic Loss To Hornets   \n",
       "\n",
       "                 authors  \\\n",
       "0        Melissa Jeltsen   \n",
       "1          Andy McDonald   \n",
       "2             Ron Dicker   \n",
       "3             Ron Dicker   \n",
       "4             Ron Dicker   \n",
       "...                  ...   \n",
       "200848  Reuters, Reuters   \n",
       "200849                     \n",
       "200850                     \n",
       "200851                     \n",
       "200852                     \n",
       "\n",
       "                                                                                                                                              link  \\\n",
       "0                                              https://www.huffingtonpost.com/entry/texas-amanda-painter-mass-shooting_us_5b081ab4e4b0802d69caad89   \n",
       "1       https://www.huffingtonpost.com/entry/will-smith-joins-diplo-and-nicky-jam-for-the-official-2018-world-cup-song_us_5b09726fe4b0fdb2aa541201   \n",
       "2                                                              https://www.huffingtonpost.com/entry/hugh-grant-marries_us_5b09212ce4b0568a880b9a8c   \n",
       "3                                                https://www.huffingtonpost.com/entry/jim-carrey-adam-schiff-democrats_us_5b0950e8e4b0fdb2aa53e675   \n",
       "4                                               https://www.huffingtonpost.com/entry/julianna-margulies-trump-poop-bag_us_5b093ec2e4b0fdb2aa53df70   \n",
       "...                                                                                                                                            ...   \n",
       "200848                                                     https://www.huffingtonpost.com/entry/rim-ceo-thorsten-heins_us_5bb34b8ce4b0fa920b95c4e1   \n",
       "200849                  https://www.huffingtonpost.com/entry/maria-sharapova-stunned-victoria-azarenka-australian-open_us_5bb69b21e4b097869fd1b2f1   \n",
       "200850                                                  https://www.huffingtonpost.com/entry/super-bowl-upsets-the-mos_us_5bb69b1de4b097869fd1b26d   \n",
       "200851                                             https://www.huffingtonpost.com/entry/aldon-smith-arrested-dui-49ers_us_5bb69b25e4b097869fd1b33c   \n",
       "200852                                 https://www.huffingtonpost.com/entry/dwight-howard-rips-teammates-magic-hornets_us_5bb69b24e4b097869fd1b331   \n",
       "\n",
       "                                                                                                                   short_description  \\\n",
       "0                                                       She left her husband. He killed their children. Just another day in America.   \n",
       "1                                                                                                           Of course it has a song.   \n",
       "2                                            The actor and his longtime girlfriend Anna Eberstein tied the knot in a civil ceremony.   \n",
       "3                                             The actor gives Dems an ass-kicking for not fighting hard enough against Donald Trump.   \n",
       "4                                            The \"Dietland\" actress said using the bags is a \"really cathartic, therapeutic moment.\"   \n",
       "...                                                                                                                              ...   \n",
       "200848  Verizon Wireless and AT&T are already promoting LTE devices including smartphones and tablets from RIM's rivals. RIM's first   \n",
       "200849    Afterward, Azarenka, more effusive with the press than normal, credited her coach of two years, Sam Sumyk, for his patient   \n",
       "200850     Leading up to Super Bowl XLVI, the most talked about game could end up being one that occurred a few years ago. After all   \n",
       "200851      CORRECTION: An earlier version of this story incorrectly stated the location of KTVU and the 2011 league leader in sacks   \n",
       "200852    The five-time all-star center tore into his teammates Friday night after Orlando committed 23 turnovers en route to losing   \n",
       "\n",
       "              date  \\\n",
       "0       2018-05-26   \n",
       "1       2018-05-26   \n",
       "2       2018-05-26   \n",
       "3       2018-05-26   \n",
       "4       2018-05-26   \n",
       "...            ...   \n",
       "200848  2012-01-28   \n",
       "200849  2012-01-28   \n",
       "200850  2012-01-28   \n",
       "200851  2012-01-28   \n",
       "200852  2012-01-28   \n",
       "\n",
       "                                                                                                                                         headline+description  \\\n",
       "0                                                                      2 mass shootings texas last week 1 tv left husband killed children another day america   \n",
       "1                                                                                        smith joins diplo nicky jam 2018 world cup official song course song   \n",
       "2                                                      hugh grant marries first time age 57 actor longtime girlfriend anna eberstein tied knot civil ceremony   \n",
       "3                                 jim carrey blasts castrato adam schiff democrats new artwork actor gives dems ass kicking fighting hard enough donald trump   \n",
       "4                                julianna margulies uses donald trump poop bags pick dog dietland actress said using bags really cathartic therapeutic moment   \n",
       "...                                                                                                                                                       ...   \n",
       "200848  rim ceo thorsten heins significant plans blackberry verizon wireless already promoting lte devices including smartphones tablets rim rivals rim first   \n",
       "200849    maria sharapova stunned victoria azarenka australian open final afterward azarenka effusive press normal credited coach two years sam sumyk patient   \n",
       "200850         giants patriots jets colts among improbable super bowl upsets time videos leading super bowl xlvi talked game could end one occurred years ago   \n",
       "200851            aldon smith arrested 49ers linebacker busted dui correction earlier version story incorrectly stated location ktvu 2011 league leader sacks   \n",
       "200852       dwight howard rips teammates magic loss hornets five time star center tore teammates friday night orlando committed 23 turnovers en route losing   \n",
       "\n",
       "                                                                                                                                                                    tokenized_text  \\\n",
       "0                                                                           [2, mass, shootings, texas, last, week, 1, tv, left, husband, killed, children, another, day, america]   \n",
       "1                                                                                                [smith, joins, diplo, nicky, jam, 2018, world, cup, official, song, course, song]   \n",
       "2                                                          [hugh, grant, marries, first, time, age, 57, actor, longtime, girlfriend, anna, eberstein, tied, knot, civil, ceremony]   \n",
       "3                                  [jim, carrey, blasts, castrato, adam, schiff, democrats, new, artwork, actor, gives, dems, ass, kicking, fighting, hard, enough, donald, trump]   \n",
       "4                                  [julianna, margulies, uses, donald, trump, poop, bags, pick, dog, dietland, actress, said, using, bags, really, cathartic, therapeutic, moment]   \n",
       "...                                                                                                                                                                            ...   \n",
       "200848  [rim, ceo, thorsten, heins, significant, plans, blackberry, verizon, wireless, already, promoting, lte, devices, including, smartphones, tablets, rim, rivals, rim, first]   \n",
       "200849    [maria, sharapova, stunned, victoria, azarenka, australian, open, final, afterward, azarenka, effusive, press, normal, credited, coach, two, years, sam, sumyk, patient]   \n",
       "200850      [giants, patriots, jets, colts, among, improbable, super, bowl, upsets, time, videos, leading, super, bowl, xlvi, talked, game, could, end, one, occurred, years, ago]   \n",
       "200851             [aldon, smith, arrested, 49ers, linebacker, busted, dui, correction, earlier, version, story, incorrectly, stated, location, ktvu, 2011, league, leader, sacks]   \n",
       "200852     [dwight, howard, rips, teammates, magic, loss, hornets, five, time, star, center, tore, teammates, friday, night, orlando, committed, 23, turnovers, en, route, losing]   \n",
       "\n",
       "                                                                                                                                                                stemmed  \\\n",
       "0                                                                         [2, mass, shoot, texa, last, week, 1, tv, left, husband, kill, children, anoth, day, america]   \n",
       "1                                                                                         [smith, join, diplo, nicki, jam, 2018, world, cup, offici, song, cours, song]   \n",
       "2                                                   [hugh, grant, marri, first, time, age, 57, actor, longtim, girlfriend, anna, eberstein, tie, knot, civil, ceremoni]   \n",
       "3                                 [jim, carrey, blast, castrato, adam, schiff, democrat, new, artwork, actor, give, dem, ass, kick, fight, hard, enough, donald, trump]   \n",
       "4                                  [julianna, marguli, use, donald, trump, poop, bag, pick, dog, dietland, actress, said, use, bag, realli, cathart, therapeut, moment]   \n",
       "...                                                                                                                                                                 ...   \n",
       "200848        [rim, ceo, thorsten, hein, signific, plan, blackberri, verizon, wireless, alreadi, promot, lte, devic, includ, smartphon, tablet, rim, rival, rim, first]   \n",
       "200849  [maria, sharapova, stun, victoria, azarenka, australian, open, final, afterward, azarenka, effus, press, normal, credit, coach, two, year, sam, sumyk, patient]   \n",
       "200850              [giant, patriot, jet, colt, among, improb, super, bowl, upset, time, video, lead, super, bowl, xlvi, talk, game, could, end, one, occur, year, ago]   \n",
       "200851                    [aldon, smith, arrest, 49er, lineback, bust, dui, correct, earlier, version, stori, incorrect, state, locat, ktvu, 2011, leagu, leader, sack]   \n",
       "200852         [dwight, howard, rip, teammat, magic, loss, hornet, five, time, star, center, tore, teammat, friday, night, orlando, commit, 23, turnov, en, rout, lose]   \n",
       "\n",
       "                                                                                                                                           Summary  \n",
       "0                                                                    2 mass shoot texa last week 1 tv left husband kill children anoth day america  \n",
       "1                                                                                 smith join diplo nicki jam 2018 world cup offici song cours song  \n",
       "2                                               hugh grant marri first time age 57 actor longtim girlfriend anna eberstein tie knot civil ceremoni  \n",
       "3                                jim carrey blast castrato adam schiff democrat new artwork actor give dem ass kick fight hard enough donald trump  \n",
       "4                                julianna marguli use donald trump poop bag pick dog dietland actress said use bag realli cathart therapeut moment  \n",
       "...                                                                                                                                            ...  \n",
       "200848        rim ceo thorsten hein signific plan blackberri verizon wireless alreadi promot lte devic includ smartphon tablet rim rival rim first  \n",
       "200849  maria sharapova stun victoria azarenka australian open final afterward azarenka effus press normal credit coach two year sam sumyk patient  \n",
       "200850                 giant patriot jet colt among improb super bowl upset time video lead super bowl xlvi talk game could end one occur year ago  \n",
       "200851                   aldon smith arrest 49er lineback bust dui correct earlier version stori incorrect state locat ktvu 2011 leagu leader sack  \n",
       "200852           dwight howard rip teammat magic loss hornet five time star center tore teammat friday night orlando commit 23 turnov en rout lose  \n",
       "\n",
       "[200853 rows x 10 columns]"
      ]
     },
     "execution_count": 19,
     "metadata": {},
     "output_type": "execute_result"
    }
   ],
   "source": [
    "df"
   ]
  },
  {
   "cell_type": "code",
   "execution_count": 18,
   "metadata": {
    "colab": {
     "base_uri": "https://localhost:8080/"
    },
    "id": "lrvPyDO-n1Ai",
    "outputId": "47d3af1d-4dbd-440f-bf5a-8d4ee4f09828"
   },
   "outputs": [
    {
     "data": {
      "text/plain": [
       "0.6480794603071868"
      ]
     },
     "execution_count": 18,
     "metadata": {},
     "output_type": "execute_result"
    }
   ],
   "source": [
    "text_np = Pipeline([('Vectorizer', CountVectorizer()),\n",
    "                    ('tf_idf', TfidfTransformer()),\n",
    "                    ('logreg', LogisticRegression(solver='newton-cg', multi_class='multinomial'))])\n",
    "text_np = text_np.fit(X_train, y_train)\n",
    "predicted2 = text_np.predict(X_test)\n",
    "\n",
    "metrics.accuracy_score(y_test, predicted2)"
   ]
  },
  {
   "cell_type": "code",
   "execution_count": 25,
   "metadata": {},
   "outputs": [
    {
     "data": {
      "text/plain": [
       "array(['ENTERTAINMENT'], dtype=object)"
      ]
     },
     "execution_count": 25,
     "metadata": {},
     "output_type": "execute_result"
    }
   ],
   "source": [
    "text_np.predict(['smith join diplo nicki jam 2018 world cup offici song cours song'])"
   ]
  },
  {
   "cell_type": "code",
   "execution_count": 36,
   "metadata": {
    "colab": {
     "base_uri": "https://localhost:8080/"
    },
    "id": "tlAKuPu0lYpn",
    "outputId": "500ecfa4-f45e-4258-b866-316256876acd"
   },
   "outputs": [
    {
     "name": "stdout",
     "output_type": "stream",
     "text": [
      "                precision    recall  f1-score   support\n",
      "\n",
      "          ARTS       0.62      0.45      0.52       803\n",
      "  BLACK VOICES       0.56      0.37      0.44       882\n",
      "      BUSINESS       0.52      0.47      0.50      1121\n",
      "        COMEDY       0.65      0.42      0.51      1068\n",
      "         CRIME       0.61      0.55      0.58       650\n",
      "     EDUCATION       0.52      0.38      0.44       431\n",
      " ENTERTAINMENT       0.57      0.75      0.65      3139\n",
      "   ENVIRONMENT       0.58      0.46      0.51       790\n",
      "  FOOD & DRINK       0.75      0.79      0.77      1723\n",
      "     GOOD NEWS       0.49      0.12      0.19       276\n",
      " HOME & LIVING       0.52      0.43      0.47      2190\n",
      "        IMPACT       0.46      0.24      0.31       696\n",
      " LATINO VOICES       0.68      0.21      0.33       215\n",
      "     LIFESTYLE       0.51      0.14      0.22       269\n",
      "      MARRIAGE       0.83      0.76      0.79      1466\n",
      "         MEDIA       0.57      0.31      0.41       544\n",
      "         MONEY       0.60      0.33      0.43       354\n",
      "     PARENTING       0.64      0.73      0.68      2536\n",
      "      POLITICS       0.70      0.84      0.76      6484\n",
      "  QUEER VOICES       0.80      0.64      0.71      1288\n",
      "      RELIGION       0.59      0.42      0.49       498\n",
      "       SCIENCE       0.69      0.40      0.51       442\n",
      "        SPORTS       0.73      0.66      0.69      1016\n",
      "STYLE & BEAUTY       0.79      0.80      0.80      2446\n",
      "          TECH       0.60      0.42      0.49       437\n",
      "        TRAVEL       0.72      0.77      0.74      2012\n",
      "    WEIRD NEWS       0.48      0.24      0.32       511\n",
      "      WELLNESS       0.56      0.79      0.65      3476\n",
      "         WOMEN       0.49      0.31      0.38       724\n",
      "    WORLD NEWS       0.69      0.67      0.68      1684\n",
      "\n",
      "      accuracy                           0.65     40171\n",
      "     macro avg       0.62      0.50      0.53     40171\n",
      "  weighted avg       0.64      0.65      0.63     40171\n",
      "\n"
     ]
    }
   ],
   "source": [
    "print(metrics.classification_report(y_test, predicted2, target_names=sorted(names)))"
   ]
  },
  {
   "cell_type": "code",
   "execution_count": 37,
   "metadata": {
    "id": "gAYbmGIb_odl"
   },
   "outputs": [],
   "source": [
    "from sklearn.ensemble import RandomForestClassifier"
   ]
  },
  {
   "cell_type": "code",
   "execution_count": 40,
   "metadata": {
    "colab": {
     "base_uri": "https://localhost:8080/"
    },
    "id": "0VivuCE5Kybq",
    "outputId": "a8aae0b8-dcc3-4d5c-f0ac-2a1d87ff6ec6"
   },
   "outputs": [
    {
     "data": {
      "text/plain": [
       "0.5890069950959648"
      ]
     },
     "execution_count": 40,
     "metadata": {},
     "output_type": "execute_result"
    }
   ],
   "source": [
    "text_np = Pipeline([('vect', CountVectorizer()),\n",
    "                    ('tfidf', TfidfTransformer()),\n",
    "                    ('clf2', RandomForestClassifier()),])\n",
    "\n",
    "text_np = text_np.fit(X_train, y_train)\n",
    "ypred = text_np.predict(X_test)\n",
    "\n",
    "metrics.accuracy_score(y_test, ypred)"
   ]
  },
  {
   "cell_type": "code",
   "execution_count": 41,
   "metadata": {
    "colab": {
     "base_uri": "https://localhost:8080/"
    },
    "id": "z2_pG63J6McS",
    "outputId": "1a88b6a1-6750-49b4-ab2d-696b084fb432"
   },
   "outputs": [
    {
     "name": "stdout",
     "output_type": "stream",
     "text": [
      "Accuracy: 0.5890069950959648\n"
     ]
    }
   ],
   "source": [
    "print(\"Accuracy:\",metrics.accuracy_score(y_test, ypred))"
   ]
  },
  {
   "cell_type": "code",
   "execution_count": 42,
   "metadata": {
    "colab": {
     "base_uri": "https://localhost:8080/"
    },
    "id": "mBjG4hpAIDqT",
    "outputId": "bac3752e-12ab-43de-f4b6-b2df2f39bca0"
   },
   "outputs": [
    {
     "name": "stdout",
     "output_type": "stream",
     "text": [
      "                precision    recall  f1-score   support\n",
      "\n",
      "          ARTS       0.58      0.32      0.42       803\n",
      "  BLACK VOICES       0.54      0.23      0.32       882\n",
      "      BUSINESS       0.45      0.36      0.40      1121\n",
      "        COMEDY       0.60      0.31      0.41      1068\n",
      "         CRIME       0.50      0.46      0.48       650\n",
      "     EDUCATION       0.48      0.35      0.40       431\n",
      " ENTERTAINMENT       0.50      0.68      0.58      3139\n",
      "   ENVIRONMENT       0.57      0.26      0.36       790\n",
      "  FOOD & DRINK       0.63      0.77      0.70      1723\n",
      "     GOOD NEWS       0.50      0.05      0.09       276\n",
      " HOME & LIVING       0.47      0.41      0.44      2190\n",
      "        IMPACT       0.64      0.08      0.15       696\n",
      " LATINO VOICES       0.77      0.11      0.19       215\n",
      "     LIFESTYLE       0.29      0.01      0.03       269\n",
      "      MARRIAGE       0.81      0.77      0.79      1466\n",
      "         MEDIA       0.54      0.19      0.28       544\n",
      "         MONEY       0.83      0.11      0.20       354\n",
      "     PARENTING       0.59      0.75      0.66      2536\n",
      "      POLITICS       0.60      0.88      0.72      6484\n",
      "  QUEER VOICES       0.82      0.59      0.69      1288\n",
      "      RELIGION       0.59      0.32      0.41       498\n",
      "       SCIENCE       0.65      0.29      0.40       442\n",
      "        SPORTS       0.65      0.53      0.58      1016\n",
      "STYLE & BEAUTY       0.70      0.76      0.73      2446\n",
      "          TECH       0.59      0.23      0.33       437\n",
      "        TRAVEL       0.65      0.66      0.65      2012\n",
      "    WEIRD NEWS       0.36      0.11      0.17       511\n",
      "      WELLNESS       0.52      0.75      0.61      3476\n",
      "         WOMEN       0.45      0.19      0.27       724\n",
      "    WORLD NEWS       0.64      0.48      0.55      1684\n",
      "\n",
      "      accuracy                           0.59     40171\n",
      "     macro avg       0.58      0.40      0.43     40171\n",
      "  weighted avg       0.59      0.59      0.56     40171\n",
      "\n"
     ]
    }
   ],
   "source": [
    "print(metrics.classification_report(y_test, ypred, target_names=sorted(names)))"
   ]
  },
  {
   "cell_type": "code",
   "execution_count": null,
   "metadata": {
    "id": "GO7ioy2iIN_W"
   },
   "outputs": [],
   "source": []
  }
 ],
 "metadata": {
  "colab": {
   "collapsed_sections": [],
   "name": "SML Project.ipynb",
   "provenance": []
  },
  "kernelspec": {
   "display_name": "Python 3",
   "language": "python",
   "name": "python3"
  },
  "language_info": {
   "codemirror_mode": {
    "name": "ipython",
    "version": 3
   },
   "file_extension": ".py",
   "mimetype": "text/x-python",
   "name": "python",
   "nbconvert_exporter": "python",
   "pygments_lexer": "ipython3",
   "version": "3.8.8"
  }
 },
 "nbformat": 4,
 "nbformat_minor": 1
}
