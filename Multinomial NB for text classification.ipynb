{
 "cells": [
  {
   "cell_type": "code",
   "execution_count": 1,
   "id": "8428050b",
   "metadata": {},
   "outputs": [],
   "source": [
    "import re\n",
    "import json\n",
    "import string\n",
    "import pandas as pd\n",
    "import numpy as np\n",
    "from sklearn import metrics\n",
    "from sklearn.feature_extraction.text import CountVectorizer\n",
    "from sklearn.model_selection import train_test_split\n",
    "from sklearn.naive_bayes import MultinomialNB"
   ]
  },
  {
   "cell_type": "code",
   "execution_count": 2,
   "id": "07110df6",
   "metadata": {},
   "outputs": [],
   "source": [
    "from sklearn.metrics import accuracy_score\n",
    "from sklearn.feature_extraction.text import TfidfTransformer "
   ]
  },
  {
   "cell_type": "code",
   "execution_count": 3,
   "id": "5a6c736d",
   "metadata": {},
   "outputs": [],
   "source": [
    "path = '/Users/simrankodwani/Downloads/News_Category_Dataset_v2.json'\n",
    "list_ = []\n",
    "\n",
    "with open(path) as files:\n",
    "    for file in files:\n",
    "        list_.append(json.loads(file))"
   ]
  },
  {
   "cell_type": "code",
   "execution_count": 4,
   "id": "42571e22",
   "metadata": {},
   "outputs": [
    {
     "data": {
      "text/html": [
       "<div>\n",
       "<style scoped>\n",
       "    .dataframe tbody tr th:only-of-type {\n",
       "        vertical-align: middle;\n",
       "    }\n",
       "\n",
       "    .dataframe tbody tr th {\n",
       "        vertical-align: top;\n",
       "    }\n",
       "\n",
       "    .dataframe thead th {\n",
       "        text-align: right;\n",
       "    }\n",
       "</style>\n",
       "<table border=\"1\" class=\"dataframe\">\n",
       "  <thead>\n",
       "    <tr style=\"text-align: right;\">\n",
       "      <th></th>\n",
       "      <th>category</th>\n",
       "      <th>headline</th>\n",
       "      <th>authors</th>\n",
       "      <th>link</th>\n",
       "      <th>short_description</th>\n",
       "      <th>date</th>\n",
       "    </tr>\n",
       "  </thead>\n",
       "  <tbody>\n",
       "    <tr>\n",
       "      <th>0</th>\n",
       "      <td>CRIME</td>\n",
       "      <td>There Were 2 Mass Shootings In Texas Last Week...</td>\n",
       "      <td>Melissa Jeltsen</td>\n",
       "      <td>https://www.huffingtonpost.com/entry/texas-ama...</td>\n",
       "      <td>She left her husband. He killed their children...</td>\n",
       "      <td>2018-05-26</td>\n",
       "    </tr>\n",
       "    <tr>\n",
       "      <th>1</th>\n",
       "      <td>ENTERTAINMENT</td>\n",
       "      <td>Will Smith Joins Diplo And Nicky Jam For The 2...</td>\n",
       "      <td>Andy McDonald</td>\n",
       "      <td>https://www.huffingtonpost.com/entry/will-smit...</td>\n",
       "      <td>Of course it has a song.</td>\n",
       "      <td>2018-05-26</td>\n",
       "    </tr>\n",
       "    <tr>\n",
       "      <th>2</th>\n",
       "      <td>ENTERTAINMENT</td>\n",
       "      <td>Hugh Grant Marries For The First Time At Age 57</td>\n",
       "      <td>Ron Dicker</td>\n",
       "      <td>https://www.huffingtonpost.com/entry/hugh-gran...</td>\n",
       "      <td>The actor and his longtime girlfriend Anna Ebe...</td>\n",
       "      <td>2018-05-26</td>\n",
       "    </tr>\n",
       "    <tr>\n",
       "      <th>3</th>\n",
       "      <td>ENTERTAINMENT</td>\n",
       "      <td>Jim Carrey Blasts 'Castrato' Adam Schiff And D...</td>\n",
       "      <td>Ron Dicker</td>\n",
       "      <td>https://www.huffingtonpost.com/entry/jim-carre...</td>\n",
       "      <td>The actor gives Dems an ass-kicking for not fi...</td>\n",
       "      <td>2018-05-26</td>\n",
       "    </tr>\n",
       "    <tr>\n",
       "      <th>4</th>\n",
       "      <td>ENTERTAINMENT</td>\n",
       "      <td>Julianna Margulies Uses Donald Trump Poop Bags...</td>\n",
       "      <td>Ron Dicker</td>\n",
       "      <td>https://www.huffingtonpost.com/entry/julianna-...</td>\n",
       "      <td>The \"Dietland\" actress said using the bags is ...</td>\n",
       "      <td>2018-05-26</td>\n",
       "    </tr>\n",
       "  </tbody>\n",
       "</table>\n",
       "</div>"
      ],
      "text/plain": [
       "        category                                           headline  \\\n",
       "0          CRIME  There Were 2 Mass Shootings In Texas Last Week...   \n",
       "1  ENTERTAINMENT  Will Smith Joins Diplo And Nicky Jam For The 2...   \n",
       "2  ENTERTAINMENT    Hugh Grant Marries For The First Time At Age 57   \n",
       "3  ENTERTAINMENT  Jim Carrey Blasts 'Castrato' Adam Schiff And D...   \n",
       "4  ENTERTAINMENT  Julianna Margulies Uses Donald Trump Poop Bags...   \n",
       "\n",
       "           authors                                               link  \\\n",
       "0  Melissa Jeltsen  https://www.huffingtonpost.com/entry/texas-ama...   \n",
       "1    Andy McDonald  https://www.huffingtonpost.com/entry/will-smit...   \n",
       "2       Ron Dicker  https://www.huffingtonpost.com/entry/hugh-gran...   \n",
       "3       Ron Dicker  https://www.huffingtonpost.com/entry/jim-carre...   \n",
       "4       Ron Dicker  https://www.huffingtonpost.com/entry/julianna-...   \n",
       "\n",
       "                                   short_description        date  \n",
       "0  She left her husband. He killed their children...  2018-05-26  \n",
       "1                           Of course it has a song.  2018-05-26  \n",
       "2  The actor and his longtime girlfriend Anna Ebe...  2018-05-26  \n",
       "3  The actor gives Dems an ass-kicking for not fi...  2018-05-26  \n",
       "4  The \"Dietland\" actress said using the bags is ...  2018-05-26  "
      ]
     },
     "execution_count": 4,
     "metadata": {},
     "output_type": "execute_result"
    }
   ],
   "source": [
    "data = pd.DataFrame(list_)\n",
    "data.head()"
   ]
  },
  {
   "cell_type": "code",
   "execution_count": 5,
   "id": "8a98cff5",
   "metadata": {},
   "outputs": [],
   "source": [
    "data['category'] = data['category'].replace(['COLLEGE', 'PARENTS', 'ARTS & CULTURE','CULTURE & ARTS', \n",
    "                                             'THE WORLDPOST', 'WORLDPOST', 'WEDDINGS','DIVORCE',\n",
    "                                             'GREEN','STYLE','TASTE','HEALTHY LIVING','FIFTY'],\n",
    "                                            ['EDUCATION', 'PARENTING', 'ARTS','ARTS','WORLD NEWS', \n",
    "                                             'WORLD NEWS','MARRIAGE','MARRIAGE','ENVIRONMENT',\n",
    "                                             'STYLE & BEAUTY','FOOD & DRINK','HOME & LIVING','LIFESTYLE'])"
   ]
  },
  {
   "cell_type": "code",
   "execution_count": 6,
   "id": "ce1d7b4a",
   "metadata": {},
   "outputs": [],
   "source": [
    "data['headline+description'] = data['headline'] + ' ' + data['short_description']"
   ]
  },
  {
   "cell_type": "code",
   "execution_count": 7,
   "id": "092b7206",
   "metadata": {},
   "outputs": [],
   "source": [
    "x = data['headline+description']\n",
    "y = data[\"category\"]"
   ]
  },
  {
   "cell_type": "code",
   "execution_count": 8,
   "id": "ccfcbdba",
   "metadata": {},
   "outputs": [],
   "source": [
    "cv = CountVectorizer()\n",
    "X = cv.fit_transform(x)\n",
    "\n",
    "X_train, X_test, y_train, y_test = train_test_split(X, y, test_size=0.33, random_state=42)"
   ]
  },
  {
   "cell_type": "code",
   "execution_count": 9,
   "id": "9fa73301",
   "metadata": {},
   "outputs": [
    {
     "data": {
      "text/plain": [
       "MultinomialNB()"
      ]
     },
     "execution_count": 9,
     "metadata": {},
     "output_type": "execute_result"
    }
   ],
   "source": [
    "model = MultinomialNB()\n",
    "model.fit(X_train,y_train)"
   ]
  },
  {
   "cell_type": "code",
   "execution_count": 10,
   "id": "5164f665",
   "metadata": {},
   "outputs": [],
   "source": [
    "# user = input(\"Enter a Text: \")\n",
    "# data = cv.transform([user]).toarray()\n",
    "# output = model.predict(data)\n",
    "# print(output)"
   ]
  },
  {
   "cell_type": "code",
   "execution_count": 11,
   "id": "7f343ef3",
   "metadata": {},
   "outputs": [],
   "source": [
    "ypred = model.predict(X_test)"
   ]
  },
  {
   "cell_type": "code",
   "execution_count": 12,
   "id": "08cfe02b",
   "metadata": {},
   "outputs": [
    {
     "data": {
      "text/plain": [
       "array(['CRIME', 'POLITICS', 'STYLE & BEAUTY', ..., 'WELLNESS',\n",
       "       'STYLE & BEAUTY', 'WELLNESS'], dtype='<U14')"
      ]
     },
     "execution_count": 12,
     "metadata": {},
     "output_type": "execute_result"
    }
   ],
   "source": [
    "ypred"
   ]
  },
  {
   "cell_type": "code",
   "execution_count": 13,
   "id": "8415874d",
   "metadata": {},
   "outputs": [],
   "source": [
    "# y_test"
   ]
  },
  {
   "cell_type": "code",
   "execution_count": 19,
   "id": "08d7f8ec",
   "metadata": {},
   "outputs": [
    {
     "name": "stdout",
     "output_type": "stream",
     "text": [
      "Accuracy of the model:57%\n"
     ]
    }
   ],
   "source": [
    "acc = metrics.accuracy_score(y_test, ypred)\n",
    "print('Accuracy of the model:{}%'.format(round(acc*100)))"
   ]
  },
  {
   "cell_type": "code",
   "execution_count": 23,
   "id": "2d10ac3f",
   "metadata": {},
   "outputs": [
    {
     "name": "stderr",
     "output_type": "stream",
     "text": [
      "/opt/anaconda3/lib/python3.8/site-packages/sklearn/metrics/_classification.py:1245: UndefinedMetricWarning: Precision and F-score are ill-defined and being set to 0.0 in labels with no predicted samples. Use `zero_division` parameter to control this behavior.\n",
      "  _warn_prf(average, modifier, msg_start, len(result))\n",
      "/opt/anaconda3/lib/python3.8/site-packages/sklearn/metrics/_classification.py:1245: UndefinedMetricWarning: Precision and F-score are ill-defined and being set to 0.0 in labels with no predicted samples. Use `zero_division` parameter to control this behavior.\n",
      "  _warn_prf(average, modifier, msg_start, len(result))\n"
     ]
    },
    {
     "name": "stdout",
     "output_type": "stream",
     "text": [
      "                precision    recall  f1-score   support\n",
      "\n",
      "          ARTS       0.74      0.18      0.29      1270\n",
      "  BLACK VOICES       0.69      0.11      0.20      1489\n",
      "      BUSINESS       0.53      0.28      0.37      1934\n",
      "        COMEDY       0.71      0.14      0.23      1714\n",
      "         CRIME       0.61      0.43      0.51      1051\n",
      "     EDUCATION       0.79      0.04      0.08       703\n",
      " ENTERTAINMENT       0.53      0.76      0.62      5256\n",
      "   ENVIRONMENT       0.63      0.21      0.32      1314\n",
      "  FOOD & DRINK       0.80      0.71      0.75      2785\n",
      "     GOOD NEWS       0.00      0.00      0.00       460\n",
      " HOME & LIVING       0.62      0.30      0.40      3615\n",
      "        IMPACT       0.58      0.07      0.12      1147\n",
      " LATINO VOICES       0.50      0.00      0.01       362\n",
      "     LIFESTYLE       0.00      0.00      0.00       442\n",
      "      MARRIAGE       0.85      0.62      0.71      2383\n",
      "         MEDIA       0.80      0.06      0.11       902\n",
      "         MONEY       0.71      0.02      0.03       570\n",
      "     PARENTING       0.45      0.74      0.56      4175\n",
      "      POLITICS       0.57      0.91      0.70     10696\n",
      "  QUEER VOICES       0.78      0.40      0.53      2117\n",
      "      RELIGION       0.88      0.09      0.17       817\n",
      "       SCIENCE       0.88      0.15      0.25       729\n",
      "        SPORTS       0.85      0.47      0.60      1664\n",
      "STYLE & BEAUTY       0.74      0.78      0.76      4006\n",
      "          TECH       0.87      0.06      0.12       709\n",
      "        TRAVEL       0.62      0.77      0.69      3349\n",
      "    WEIRD NEWS       0.67      0.03      0.05       853\n",
      "      WELLNESS       0.41      0.88      0.56      5805\n",
      "         WOMEN       0.76      0.06      0.11      1146\n",
      "    WORLD NEWS       0.70      0.58      0.63      2819\n",
      "\n",
      "      accuracy                           0.57     66282\n",
      "     macro avg       0.64      0.33      0.35     66282\n",
      "  weighted avg       0.62      0.57      0.52     66282\n",
      "\n"
     ]
    },
    {
     "name": "stderr",
     "output_type": "stream",
     "text": [
      "/opt/anaconda3/lib/python3.8/site-packages/sklearn/metrics/_classification.py:1245: UndefinedMetricWarning: Precision and F-score are ill-defined and being set to 0.0 in labels with no predicted samples. Use `zero_division` parameter to control this behavior.\n",
      "  _warn_prf(average, modifier, msg_start, len(result))\n"
     ]
    }
   ],
   "source": [
    "print(metrics.classification_report(y_test, ypred, target_names=sorted(names)))"
   ]
  },
  {
   "cell_type": "code",
   "execution_count": 22,
   "id": "dbb3a7a6",
   "metadata": {},
   "outputs": [],
   "source": [
    "names = np.unique(data['category'])"
   ]
  },
  {
   "cell_type": "code",
   "execution_count": null,
   "id": "99fd8be6",
   "metadata": {},
   "outputs": [],
   "source": []
  }
 ],
 "metadata": {
  "kernelspec": {
   "display_name": "Python 3",
   "language": "python",
   "name": "python3"
  },
  "language_info": {
   "codemirror_mode": {
    "name": "ipython",
    "version": 3
   },
   "file_extension": ".py",
   "mimetype": "text/x-python",
   "name": "python",
   "nbconvert_exporter": "python",
   "pygments_lexer": "ipython3",
   "version": "3.8.8"
  }
 },
 "nbformat": 4,
 "nbformat_minor": 5
}
