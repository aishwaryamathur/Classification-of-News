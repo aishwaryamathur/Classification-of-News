{
 "cells": [
  {
   "cell_type": "code",
   "execution_count": 1,
   "id": "88c82c88",
   "metadata": {},
   "outputs": [],
   "source": [
    "# !pip install tensorflow\n",
    "# !pip install keras"
   ]
  },
  {
   "cell_type": "code",
   "execution_count": 2,
   "id": "12908476",
   "metadata": {},
   "outputs": [],
   "source": [
    "import re\n",
    "import json\n",
    "import string\n",
    "import pandas as pd\n",
    "import numpy as np\n",
    "from sklearn.model_selection import train_test_split\n",
    "import matplotlib.pyplot as plt"
   ]
  },
  {
   "cell_type": "code",
   "execution_count": 3,
   "id": "73912617",
   "metadata": {},
   "outputs": [],
   "source": [
    "from keras import backend as K\n",
    "from keras.layers import Dense, Input, Activation, Conv1D, Flatten\n",
    "from keras.layers import Dropout, Embedding, MaxPooling1D, Concatenate\n",
    "from keras.preprocessing import sequence\n",
    "from keras.models import Sequential, Model, load_model\n",
    "from keras.preprocessing.text import Tokenizer, text_to_word_sequence\n",
    "from keras.initializers import Constant\n",
    "from keras.utils import np_utils"
   ]
  },
  {
   "cell_type": "markdown",
   "id": "97b4cc95",
   "metadata": {},
   "source": [
    "### Reading the input file and storing it in a dataframe"
   ]
  },
  {
   "cell_type": "code",
   "execution_count": 4,
   "id": "2aefc1be",
   "metadata": {},
   "outputs": [],
   "source": [
    "path = '/Users/simrankodwani/Downloads/News_Category_Dataset_v2.json'\n",
    "list_ = []\n",
    "\n",
    "with open(path) as files:\n",
    "    for file in files:\n",
    "        list_.append(json.loads(file))"
   ]
  },
  {
   "cell_type": "code",
   "execution_count": 5,
   "id": "719da119",
   "metadata": {},
   "outputs": [
    {
     "data": {
      "text/html": [
       "<div>\n",
       "<style scoped>\n",
       "    .dataframe tbody tr th:only-of-type {\n",
       "        vertical-align: middle;\n",
       "    }\n",
       "\n",
       "    .dataframe tbody tr th {\n",
       "        vertical-align: top;\n",
       "    }\n",
       "\n",
       "    .dataframe thead th {\n",
       "        text-align: right;\n",
       "    }\n",
       "</style>\n",
       "<table border=\"1\" class=\"dataframe\">\n",
       "  <thead>\n",
       "    <tr style=\"text-align: right;\">\n",
       "      <th></th>\n",
       "      <th>category</th>\n",
       "      <th>headline</th>\n",
       "      <th>authors</th>\n",
       "      <th>link</th>\n",
       "      <th>short_description</th>\n",
       "      <th>date</th>\n",
       "    </tr>\n",
       "  </thead>\n",
       "  <tbody>\n",
       "    <tr>\n",
       "      <th>0</th>\n",
       "      <td>CRIME</td>\n",
       "      <td>There Were 2 Mass Shootings In Texas Last Week...</td>\n",
       "      <td>Melissa Jeltsen</td>\n",
       "      <td>https://www.huffingtonpost.com/entry/texas-ama...</td>\n",
       "      <td>She left her husband. He killed their children...</td>\n",
       "      <td>2018-05-26</td>\n",
       "    </tr>\n",
       "    <tr>\n",
       "      <th>1</th>\n",
       "      <td>ENTERTAINMENT</td>\n",
       "      <td>Will Smith Joins Diplo And Nicky Jam For The 2...</td>\n",
       "      <td>Andy McDonald</td>\n",
       "      <td>https://www.huffingtonpost.com/entry/will-smit...</td>\n",
       "      <td>Of course it has a song.</td>\n",
       "      <td>2018-05-26</td>\n",
       "    </tr>\n",
       "    <tr>\n",
       "      <th>2</th>\n",
       "      <td>ENTERTAINMENT</td>\n",
       "      <td>Hugh Grant Marries For The First Time At Age 57</td>\n",
       "      <td>Ron Dicker</td>\n",
       "      <td>https://www.huffingtonpost.com/entry/hugh-gran...</td>\n",
       "      <td>The actor and his longtime girlfriend Anna Ebe...</td>\n",
       "      <td>2018-05-26</td>\n",
       "    </tr>\n",
       "    <tr>\n",
       "      <th>3</th>\n",
       "      <td>ENTERTAINMENT</td>\n",
       "      <td>Jim Carrey Blasts 'Castrato' Adam Schiff And D...</td>\n",
       "      <td>Ron Dicker</td>\n",
       "      <td>https://www.huffingtonpost.com/entry/jim-carre...</td>\n",
       "      <td>The actor gives Dems an ass-kicking for not fi...</td>\n",
       "      <td>2018-05-26</td>\n",
       "    </tr>\n",
       "    <tr>\n",
       "      <th>4</th>\n",
       "      <td>ENTERTAINMENT</td>\n",
       "      <td>Julianna Margulies Uses Donald Trump Poop Bags...</td>\n",
       "      <td>Ron Dicker</td>\n",
       "      <td>https://www.huffingtonpost.com/entry/julianna-...</td>\n",
       "      <td>The \"Dietland\" actress said using the bags is ...</td>\n",
       "      <td>2018-05-26</td>\n",
       "    </tr>\n",
       "  </tbody>\n",
       "</table>\n",
       "</div>"
      ],
      "text/plain": [
       "        category                                           headline  \\\n",
       "0          CRIME  There Were 2 Mass Shootings In Texas Last Week...   \n",
       "1  ENTERTAINMENT  Will Smith Joins Diplo And Nicky Jam For The 2...   \n",
       "2  ENTERTAINMENT    Hugh Grant Marries For The First Time At Age 57   \n",
       "3  ENTERTAINMENT  Jim Carrey Blasts 'Castrato' Adam Schiff And D...   \n",
       "4  ENTERTAINMENT  Julianna Margulies Uses Donald Trump Poop Bags...   \n",
       "\n",
       "           authors                                               link  \\\n",
       "0  Melissa Jeltsen  https://www.huffingtonpost.com/entry/texas-ama...   \n",
       "1    Andy McDonald  https://www.huffingtonpost.com/entry/will-smit...   \n",
       "2       Ron Dicker  https://www.huffingtonpost.com/entry/hugh-gran...   \n",
       "3       Ron Dicker  https://www.huffingtonpost.com/entry/jim-carre...   \n",
       "4       Ron Dicker  https://www.huffingtonpost.com/entry/julianna-...   \n",
       "\n",
       "                                   short_description        date  \n",
       "0  She left her husband. He killed their children...  2018-05-26  \n",
       "1                           Of course it has a song.  2018-05-26  \n",
       "2  The actor and his longtime girlfriend Anna Ebe...  2018-05-26  \n",
       "3  The actor gives Dems an ass-kicking for not fi...  2018-05-26  \n",
       "4  The \"Dietland\" actress said using the bags is ...  2018-05-26  "
      ]
     },
     "execution_count": 5,
     "metadata": {},
     "output_type": "execute_result"
    }
   ],
   "source": [
    "data = pd.DataFrame(list_)\n",
    "data.head()"
   ]
  },
  {
   "cell_type": "markdown",
   "id": "0f227378",
   "metadata": {},
   "source": [
    "### Merging similar categories"
   ]
  },
  {
   "cell_type": "code",
   "execution_count": 6,
   "id": "4dc52ae7",
   "metadata": {},
   "outputs": [],
   "source": [
    "data['category'] = data['category'].replace(['COLLEGE', 'PARENTS', 'ARTS & CULTURE','CULTURE & ARTS', \n",
    "                                             'THE WORLDPOST', 'WORLDPOST', 'WEDDINGS','DIVORCE',\n",
    "                                             'GREEN','STYLE','TASTE','HEALTHY LIVING','FIFTY'],\n",
    "                                            ['EDUCATION', 'PARENTING', 'ARTS','ARTS','WORLD NEWS', \n",
    "                                             'WORLD NEWS','MARRIAGE','MARRIAGE','ENVIRONMENT',\n",
    "                                             'STYLE & BEAUTY','FOOD & DRINK','HOME & LIVING','LIFESTYLE'])"
   ]
  },
  {
   "cell_type": "markdown",
   "id": "caccd38b",
   "metadata": {},
   "source": [
    "### Concatenating headline and description columns and convertng the text to lower case"
   ]
  },
  {
   "cell_type": "code",
   "execution_count": 7,
   "id": "c47dbf55",
   "metadata": {},
   "outputs": [],
   "source": [
    "data['headline+description'] = data['headline'] + ' ' + data['short_description']"
   ]
  },
  {
   "cell_type": "code",
   "execution_count": 8,
   "id": "4d3b6e13",
   "metadata": {},
   "outputs": [],
   "source": [
    "data['text'] = data['headline+description'].str.lower()"
   ]
  },
  {
   "cell_type": "markdown",
   "id": "de086a85",
   "metadata": {},
   "source": [
    "### Tokenizing the text column (headline + description)"
   ]
  },
  {
   "cell_type": "code",
   "execution_count": 9,
   "id": "f9d84f1b",
   "metadata": {},
   "outputs": [],
   "source": [
    "#Tokenizing the text\n",
    "tok = Tokenizer()\n",
    "tok.fit_on_texts(data.text)\n",
    "\n",
    "#The texts_to_sequences transforms text to sequence of integers \n",
    "data['tokenized_text'] = tok.texts_to_sequences(data.text)"
   ]
  },
  {
   "cell_type": "code",
   "execution_count": 10,
   "id": "c0920734",
   "metadata": {},
   "outputs": [],
   "source": [
    "#Dropping any data field which is empty or shorter than 5 words\n",
    "data['wlen'] = data.tokenized_text.apply(lambda x: len(x))\n",
    "data = data[data.wlen > 5]"
   ]
  },
  {
   "cell_type": "code",
   "execution_count": 11,
   "id": "f4152712",
   "metadata": {},
   "outputs": [],
   "source": [
    "#Setting the maximum length a field an have to 50 and padding sequences to cnvert them to len=50\n",
    "max_len = 50\n",
    "X = list(sequence.pad_sequences(data.tokenized_text, maxlen=max_len))"
   ]
  },
  {
   "cell_type": "code",
   "execution_count": 12,
   "id": "653a4861",
   "metadata": {},
   "outputs": [],
   "source": [
    "#Converting categories to ids\n",
    "categories = data.groupby('category').size().index.tolist()\n",
    "category_int = {}\n",
    "int_category = {}\n",
    "\n",
    "for i, k in enumerate(categories):\n",
    "    category_int.update({k:i})\n",
    "    int_category.update({i:k})\n",
    "\n",
    "data['cat_id'] = data['category'].apply(lambda x: category_int[x])"
   ]
  },
  {
   "cell_type": "code",
   "execution_count": 13,
   "id": "1b183149",
   "metadata": {},
   "outputs": [
    {
     "name": "stdout",
     "output_type": "stream",
     "text": [
      "Unique Tokens: 116617\n",
      "Total Word Vectors: 400000\n"
     ]
    }
   ],
   "source": [
    "##Converting the words to word_embeddings\n",
    "w_index = tok.word_index\n",
    "embedds = {}\n",
    "\n",
    "emb = open('glove.6B.100d.txt')\n",
    "for line in emb:\n",
    "    values = line.split()\n",
    "    word = values[0]\n",
    "    coefs = np.asarray(values[1:], dtype='float32')\n",
    "    embedds[word] = coefs\n",
    "emb.close()\n",
    "\n",
    "print('Unique Tokens: {}' .format(len(w_index)))\n",
    "print('Total Word Vectors: {}' .format(len(embedds)))"
   ]
  },
  {
   "cell_type": "code",
   "execution_count": 14,
   "id": "220074c0",
   "metadata": {},
   "outputs": [],
   "source": [
    "# !wget http://nlp.stanford.edu/data/glove.6B.zip"
   ]
  },
  {
   "cell_type": "code",
   "execution_count": 15,
   "id": "edf29a3b",
   "metadata": {},
   "outputs": [],
   "source": [
    "# !unzip glove*.zip"
   ]
  },
  {
   "cell_type": "code",
   "execution_count": 16,
   "id": "08c298a2",
   "metadata": {},
   "outputs": [],
   "source": [
    "# !ls\n",
    "# !pwd"
   ]
  },
  {
   "cell_type": "code",
   "execution_count": 17,
   "id": "8d679933",
   "metadata": {},
   "outputs": [],
   "source": [
    "#Creating an embedding matrix\n",
    "dim = 100\n",
    "\n",
    "embedding_matrix = np.zeros((len(w_index) + 1, dim))\n",
    "\n",
    "for word, i in w_index.items():\n",
    "    embedding_vector = embedds.get(word)\n",
    "    if embedding_vector is not None:\n",
    "        embedding_matrix[i] = embedding_vector\n",
    "\n",
    "embedding_layer = Embedding(len(w_index)+1,\n",
    "                            dim,\n",
    "                            embeddings_initializer=Constant(embedding_matrix),\n",
    "                            input_length=max_len,\n",
    "                            trainable=False)"
   ]
  },
  {
   "cell_type": "code",
   "execution_count": 18,
   "id": "538da184",
   "metadata": {},
   "outputs": [],
   "source": [
    "#X and Y data \n",
    "#X is text column which is tokenized, converted to integers and padded to maximum length\n",
    "#Y is the array of labelled data converted to one-hot vector\n",
    "X = np.array(X)\n",
    "Y = np_utils.to_categorical(list(data.cat_id))\n",
    "\n",
    "#Splitting the dataset to training and testing\n",
    "x_train, x_test, y_train, y_test = train_test_split(X, Y, test_size=0.2, random_state=50)"
   ]
  },
  {
   "cell_type": "code",
   "execution_count": 19,
   "id": "21dcde03",
   "metadata": {},
   "outputs": [
    {
     "name": "stdout",
     "output_type": "stream",
     "text": [
      "Model: \"model\"\n",
      "__________________________________________________________________________________________________\n",
      " Layer (type)                   Output Shape         Param #     Connected to                     \n",
      "==================================================================================================\n",
      " input_1 (InputLayer)           [(None, 50)]         0           []                               \n",
      "                                                                                                  \n",
      " embedding (Embedding)          (None, 50, 100)      11661800    ['input_1[0][0]']                \n",
      "                                                                                                  \n",
      " conv1d (Conv1D)                (None, 50, 64)       12864       ['embedding[0][0]']              \n",
      "                                                                                                  \n",
      " conv1d_1 (Conv1D)              (None, 50, 64)       19264       ['embedding[0][0]']              \n",
      "                                                                                                  \n",
      " conv1d_2 (Conv1D)              (None, 50, 64)       25664       ['embedding[0][0]']              \n",
      "                                                                                                  \n",
      " conv1d_3 (Conv1D)              (None, 50, 64)       32064       ['embedding[0][0]']              \n",
      "                                                                                                  \n",
      " max_pooling1d (MaxPooling1D)   (None, 16, 64)       0           ['conv1d[0][0]']                 \n",
      "                                                                                                  \n",
      " max_pooling1d_1 (MaxPooling1D)  (None, 16, 64)      0           ['conv1d_1[0][0]']               \n",
      "                                                                                                  \n",
      " max_pooling1d_2 (MaxPooling1D)  (None, 16, 64)      0           ['conv1d_2[0][0]']               \n",
      "                                                                                                  \n",
      " max_pooling1d_3 (MaxPooling1D)  (None, 16, 64)      0           ['conv1d_3[0][0]']               \n",
      "                                                                                                  \n",
      " dropout (Dropout)              (None, 16, 64)       0           ['max_pooling1d[0][0]']          \n",
      "                                                                                                  \n",
      " dropout_1 (Dropout)            (None, 16, 64)       0           ['max_pooling1d_1[0][0]']        \n",
      "                                                                                                  \n",
      " dropout_2 (Dropout)            (None, 16, 64)       0           ['max_pooling1d_2[0][0]']        \n",
      "                                                                                                  \n",
      " dropout_3 (Dropout)            (None, 16, 64)       0           ['max_pooling1d_3[0][0]']        \n",
      "                                                                                                  \n",
      " concatenate (Concatenate)      (None, 16, 256)      0           ['dropout[0][0]',                \n",
      "                                                                  'dropout_1[0][0]',              \n",
      "                                                                  'dropout_2[0][0]',              \n",
      "                                                                  'dropout_3[0][0]']              \n",
      "                                                                                                  \n",
      " flatten (Flatten)              (None, 4096)         0           ['concatenate[0][0]']            \n",
      "                                                                                                  \n",
      " dropout_4 (Dropout)            (None, 4096)         0           ['flatten[0][0]']                \n",
      "                                                                                                  \n",
      " dense (Dense)                  (None, 30)           122910      ['dropout_4[0][0]']              \n",
      "                                                                                                  \n",
      "==================================================================================================\n",
      "Total params: 11,874,566\n",
      "Trainable params: 212,766\n",
      "Non-trainable params: 11,661,800\n",
      "__________________________________________________________________________________________________\n"
     ]
    }
   ],
   "source": [
    "inp = Input(shape=(max_len,), dtype='int32')\n",
    "embedding = embedding_layer(inp)\n",
    "k_size = [2, 3, 4, 5]\n",
    "st = []\n",
    "\n",
    "for kernel_size in k_size:\n",
    "    conv = Conv1D(64, kernel_size, padding='same', activation='relu', strides=1)(embedding)\n",
    "    pool = MaxPooling1D(pool_size=3)(conv)\n",
    "    drop = Dropout(0.5)(pool)\n",
    "    st.append(drop)\n",
    "\n",
    "merged = Concatenate()(st)\n",
    "flatten = Flatten()(merged)\n",
    "drop = Dropout(0.5)(flatten)\n",
    "outp = Dense(len(int_category), activation='softmax')(drop)\n",
    "\n",
    "TextCNN = Model(inputs=inp, outputs=outp)\n",
    "TextCNN.compile(loss='categorical_crossentropy', optimizer='adam', metrics=['accuracy'])\n",
    "\n",
    "TextCNN.summary()"
   ]
  },
  {
   "cell_type": "code",
   "execution_count": 20,
   "id": "b26d8be9",
   "metadata": {},
   "outputs": [
    {
     "name": "stdout",
     "output_type": "stream",
     "text": [
      "Epoch 1/20\n",
      "1245/1245 [==============================] - 121s 96ms/step - loss: 2.0099 - accuracy: 0.4572 - val_loss: 1.5580 - val_accuracy: 0.5735\n",
      "Epoch 2/20\n",
      "1245/1245 [==============================] - 112s 90ms/step - loss: 1.6883 - accuracy: 0.5394 - val_loss: 1.4648 - val_accuracy: 0.5981\n",
      "Epoch 3/20\n",
      "1245/1245 [==============================] - 116s 93ms/step - loss: 1.6266 - accuracy: 0.5552 - val_loss: 1.4423 - val_accuracy: 0.6064\n",
      "Epoch 4/20\n",
      "1245/1245 [==============================] - 118s 95ms/step - loss: 1.5910 - accuracy: 0.5638 - val_loss: 1.4207 - val_accuracy: 0.6136\n",
      "Epoch 5/20\n",
      "1245/1245 [==============================] - 124s 100ms/step - loss: 1.5667 - accuracy: 0.5699 - val_loss: 1.4125 - val_accuracy: 0.6141\n",
      "Epoch 6/20\n",
      "1245/1245 [==============================] - 123s 99ms/step - loss: 1.5541 - accuracy: 0.5718 - val_loss: 1.3951 - val_accuracy: 0.6192\n",
      "Epoch 7/20\n",
      "1245/1245 [==============================] - 129s 104ms/step - loss: 1.5411 - accuracy: 0.5765 - val_loss: 1.3906 - val_accuracy: 0.6204\n",
      "Epoch 8/20\n",
      "1245/1245 [==============================] - 117s 94ms/step - loss: 1.5300 - accuracy: 0.5782 - val_loss: 1.3917 - val_accuracy: 0.6177\n",
      "Epoch 9/20\n",
      "1245/1245 [==============================] - 124s 99ms/step - loss: 1.5200 - accuracy: 0.5818 - val_loss: 1.3894 - val_accuracy: 0.6162\n",
      "Epoch 10/20\n",
      "1245/1245 [==============================] - 123s 99ms/step - loss: 1.5120 - accuracy: 0.5839 - val_loss: 1.3812 - val_accuracy: 0.6225\n",
      "Epoch 11/20\n",
      "1245/1245 [==============================] - 129s 104ms/step - loss: 1.5067 - accuracy: 0.5847 - val_loss: 1.3865 - val_accuracy: 0.6195\n",
      "Epoch 12/20\n",
      "1245/1245 [==============================] - 107s 86ms/step - loss: 1.4983 - accuracy: 0.5869 - val_loss: 1.3744 - val_accuracy: 0.6231\n",
      "Epoch 13/20\n",
      "1245/1245 [==============================] - 109s 88ms/step - loss: 1.4929 - accuracy: 0.5875 - val_loss: 1.3699 - val_accuracy: 0.6259\n",
      "Epoch 14/20\n",
      "1245/1245 [==============================] - 128s 103ms/step - loss: 1.4833 - accuracy: 0.5904 - val_loss: 1.3732 - val_accuracy: 0.6249\n",
      "Epoch 15/20\n",
      "1245/1245 [==============================] - 106s 85ms/step - loss: 1.4792 - accuracy: 0.5910 - val_loss: 1.3704 - val_accuracy: 0.6252\n",
      "Epoch 16/20\n",
      "1245/1245 [==============================] - 107s 86ms/step - loss: 1.4801 - accuracy: 0.5900 - val_loss: 1.3723 - val_accuracy: 0.6256\n",
      "Epoch 17/20\n",
      "1245/1245 [==============================] - 110s 88ms/step - loss: 1.4721 - accuracy: 0.5923 - val_loss: 1.3706 - val_accuracy: 0.6269\n",
      "Epoch 18/20\n",
      "1245/1245 [==============================] - 110s 89ms/step - loss: 1.4664 - accuracy: 0.5940 - val_loss: 1.3659 - val_accuracy: 0.6251\n",
      "Epoch 19/20\n",
      "1245/1245 [==============================] - 98s 79ms/step - loss: 1.4648 - accuracy: 0.5934 - val_loss: 1.3696 - val_accuracy: 0.6270\n",
      "Epoch 20/20\n",
      "1245/1245 [==============================] - 97s 78ms/step - loss: 1.4636 - accuracy: 0.5931 - val_loss: 1.3683 - val_accuracy: 0.6266\n"
     ]
    }
   ],
   "source": [
    "textcnn = TextCNN.fit(x_train, \n",
    "                      y_train, \n",
    "                      batch_size=128, \n",
    "                      epochs=20, \n",
    "                      validation_data=(x_test, y_test))"
   ]
  },
  {
   "cell_type": "code",
   "execution_count": 21,
   "id": "4679425a",
   "metadata": {},
   "outputs": [
    {
     "data": {
      "image/png": "[encoded data removed]",
      "text/plain": [
       "<Figure size 432x288 with 1 Axes>"
      ]
     },
     "metadata": {
      "needs_background": "light"
     },
     "output_type": "display_data"
    },
    {
     "data": {
      "image/png": "[encoded data removed]",
      "text/plain": [
       "<Figure size 432x288 with 1 Axes>"
      ]
     },
     "metadata": {
      "needs_background": "light"
     },
     "output_type": "display_data"
    }
   ],
   "source": [
    "acc = textcnn.history['accuracy']\n",
    "test_acc = textcnn.history['val_accuracy']\n",
    "loss = textcnn.history['loss']\n",
    "test_loss = textcnn.history['val_loss']\n",
    "epochs = range(1, len(acc) + 1)\n",
    "\n",
    "plt.title('Training and Testing Accuracy')\n",
    "plt.plot(epochs, acc, 'red', label='Training Accuracy')\n",
    "plt.plot(epochs, test_acc, 'blue', label='Testing Accuracy')\n",
    "plt.legend()\n",
    "\n",
    "plt.figure()\n",
    "plt.title('Training and Testing Loss')\n",
    "plt.plot(epochs, loss, 'red', label='Training Loss')\n",
    "plt.plot(epochs, test_loss, 'blue', label='Testing Loss')\n",
    "plt.legend()\n",
    "\n",
    "plt.show()"
   ]
  },
  {
   "cell_type": "code",
   "execution_count": null,
   "id": "502e15df",
   "metadata": {},
   "outputs": [],
   "source": []
  },
  {
   "cell_type": "code",
   "execution_count": null,
   "id": "bae08406",
   "metadata": {},
   "outputs": [],
   "source": []
  }
 ],
 "metadata": {
  "kernelspec": {
   "display_name": "Python 3",
   "language": "python",
   "name": "python3"
  },
  "language_info": {
   "codemirror_mode": {
    "name": "ipython",
    "version": 3
   },
   "file_extension": ".py",
   "mimetype": "text/x-python",
   "name": "python",
   "nbconvert_exporter": "python",
   "pygments_lexer": "ipython3",
   "version": "3.8.8"
  }
 },
 "nbformat": 4,
 "nbformat_minor": 5
}
